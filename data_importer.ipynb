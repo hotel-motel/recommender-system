{
 "cells": [
  {
   "cell_type": "code",
   "execution_count": 1,
   "id": "2d6f53c9",
   "metadata": {},
   "outputs": [],
   "source": [
    "from dotenv import load_dotenv\n",
    "from os import environ\n",
    "from databases import Database\n",
    "import pandas as pd\n",
    "import matplotlib.pyplot as plt\n",
    "import seaborn as sns\n",
    "import numpy as np"
   ]
  },
  {
   "cell_type": "code",
   "execution_count": 2,
   "id": "257a878e",
   "metadata": {},
   "outputs": [],
   "source": [
    "load_dotenv('.env')\n",
    "DATABASE_URL = environ.get('DB_CONNECTION')+'://'+environ.get('DB_USERNAME')+':'+environ.get('DB_PASSWORD')+'@'+environ.get('DB_HOST')+':'+environ.get('DB_PORT')+'/'+environ.get('DB_DATABASE')\n",
    "database = Database(DATABASE_URL)"
   ]
  },
  {
   "cell_type": "code",
   "execution_count": 3,
   "id": "b53d853b",
   "metadata": {},
   "outputs": [],
   "source": [
    "hotels_df = pd.read_csv('../archive/Hotel_details.csv')\n",
    "rooms_df = pd.read_csv('../archive/hotels_RoomPrice.csv')"
   ]
  },
  {
   "cell_type": "code",
   "execution_count": 4,
   "id": "eb41649c",
   "metadata": {},
   "outputs": [
    {
     "data": {
      "text/html": [
       "<div>\n",
       "<style scoped>\n",
       "    .dataframe tbody tr th:only-of-type {\n",
       "        vertical-align: middle;\n",
       "    }\n",
       "\n",
       "    .dataframe tbody tr th {\n",
       "        vertical-align: top;\n",
       "    }\n",
       "\n",
       "    .dataframe thead th {\n",
       "        text-align: right;\n",
       "    }\n",
       "</style>\n",
       "<table border=\"1\" class=\"dataframe\">\n",
       "  <thead>\n",
       "    <tr style=\"text-align: right;\">\n",
       "      <th></th>\n",
       "      <th>index</th>\n",
       "      <th>name</th>\n",
       "    </tr>\n",
       "  </thead>\n",
       "  <tbody>\n",
       "    <tr>\n",
       "      <th>0</th>\n",
       "      <td>0</td>\n",
       "      <td>Kastelir</td>\n",
       "    </tr>\n",
       "    <tr>\n",
       "      <th>1</th>\n",
       "      <td>1</td>\n",
       "      <td>Caillac</td>\n",
       "    </tr>\n",
       "    <tr>\n",
       "      <th>2</th>\n",
       "      <td>2</td>\n",
       "      <td>Schkeuditz</td>\n",
       "    </tr>\n",
       "    <tr>\n",
       "      <th>3</th>\n",
       "      <td>3</td>\n",
       "      <td>Susice</td>\n",
       "    </tr>\n",
       "    <tr>\n",
       "      <th>4</th>\n",
       "      <td>4</td>\n",
       "      <td>Nijar</td>\n",
       "    </tr>\n",
       "  </tbody>\n",
       "</table>\n",
       "</div>"
      ],
      "text/plain": [
       "   index        name\n",
       "0      0    Kastelir\n",
       "1      1     Caillac\n",
       "2      2  Schkeuditz\n",
       "3      3      Susice\n",
       "4      4       Nijar"
      ]
     },
     "execution_count": 4,
     "metadata": {},
     "output_type": "execute_result"
    }
   ],
   "source": [
    "cities = hotels_df['city'].to_list()\n",
    "cities = list(set(cities))\n",
    "cities = pd.DataFrame(cities, columns=[\"name\"])\n",
    "cities = cities.reset_index()\n",
    "cities.head()"
   ]
  },
  {
   "cell_type": "code",
   "execution_count": 5,
   "id": "4cc874e2",
   "metadata": {},
   "outputs": [
    {
     "name": "stdout",
     "output_type": "stream",
     "text": [
      "The query was created\n"
     ]
    }
   ],
   "source": [
    "await database.connect()\n",
    "query = \"INSERT INTO cities(id, name, image) VALUES\"\n",
    "image_link = 'https://unsplash.com/photos/Nyvq2juw4_o/download?ixid=MnwxMjA3fDB8MXxzZWFyY2h8Mnx8Y2l0eXxlbnwwfHx8fDE2NjUwMDAzNjM&force=true&w=640'\n",
    "for index, city in cities.iterrows():\n",
    "    query = query + \"(\"+str(index)+\", '\"+city['name'].replace(\"'\", \"''\")+\"','\"+image_link+\"'),\"\n",
    "query = query[:-1]\n",
    "print(\"The query was created\")\n",
    "await database.execute(query=query)"
   ]
  },
  {
   "cell_type": "code",
   "execution_count": 10,
   "id": "35b35fe6",
   "metadata": {},
   "outputs": [],
   "source": [
    "hotels = hotels_df[['hotelid', 'id', 'hotelname', 'starrating', 'address', 'city']]\n",
    "hotels = hotels.dropna()\n",
    "hotels = hotels.reset_index()"
   ]
  },
  {
   "cell_type": "code",
   "execution_count": 9,
   "id": "9d227284",
   "metadata": {},
   "outputs": [],
   "source": [
    "load_in_each_query = 10000\n",
    "for x in range(0, hotels['index'].count(), load_in_each_query):\n",
    "    query = \"INSERT INTO hotels(id, name, address, image, credit, star, city_id) VALUES \"\n",
    "    for index, hotel in hotels.iterrows():\n",
    "        if x<=index<x+load_in_each_query:\n",
    "            query = query + \"(\"+str(hotel['id'])+\", '\"+hotel['hotelname'].replace(\"'\", \"''\")+\"', '\"+hotel['address'].replace(\"'\", \"''\")+\"', 'image_link', 0, \"+str(hotel[\"starrating\"])+\", \"+str(cities.loc[cities['name']==hotel['city']].index[0])+\"),\"\n",
    "    query = query[:-1]\n",
    "    await database.execute(query=query)"
   ]
  },
  {
   "cell_type": "code",
   "execution_count": 11,
   "id": "33f0b679",
   "metadata": {},
   "outputs": [
    {
     "name": "stdout",
     "output_type": "stream",
     "text": [
      "<class 'pandas.core.frame.DataFrame'>\n",
      "RangeIndex: 165873 entries, 0 to 165872\n",
      "Data columns (total 5 columns):\n",
      " #   Column        Non-Null Count   Dtype  \n",
      "---  ------        --------------   -----  \n",
      " 0   index         165873 non-null  int64  \n",
      " 1   id            165873 non-null  int64  \n",
      " 2   onsiterate    165873 non-null  float64\n",
      " 3   maxoccupancy  165873 non-null  int64  \n",
      " 4   hotelcode     165873 non-null  int64  \n",
      "dtypes: float64(1), int64(4)\n",
      "memory usage: 6.3 MB\n"
     ]
    }
   ],
   "source": [
    "rooms = rooms_df[['id', 'onsiterate', 'maxoccupancy', 'hotelcode']]\n",
    "rooms = rooms.dropna()\n",
    "rooms = rooms.reset_index()\n",
    "rooms.info()"
   ]
  },
  {
   "cell_type": "code",
   "execution_count": 13,
   "id": "52eaa5d4",
   "metadata": {},
   "outputs": [
    {
     "name": "stdout",
     "output_type": "stream",
     "text": [
      "The Query Was Created\n",
      "The Query Was Created\n",
      "The Query Was Created\n",
      "The Query Was Created\n",
      "The Query Was Created\n",
      "The Query Was Created\n",
      "The Query Was Created\n",
      "The Query Was Created\n",
      "The Query Was Created\n",
      "The Query Was Created\n",
      "The Query Was Created\n",
      "The Query Was Created\n",
      "The Query Was Created\n",
      "The Query Was Created\n",
      "The Query Was Created\n",
      "The Query Was Created\n",
      "The Query Was Created\n"
     ]
    }
   ],
   "source": [
    "load_in_each_query = 10000\n",
    "# TODO: fix hotel_id\n",
    "for x in range(0, rooms['index'].count(), load_in_each_query):\n",
    "    query = \"INSERT INTO rooms(id, number, price, max_capacity, floor, hotel_id) VALUES \"\n",
    "    for index, room in rooms.iterrows():\n",
    "        if x<=index<x+load_in_each_query:\n",
    "            query = query + \"(\"+str(index)+\", '\"+str(int(room['id']))+\"', \"+str(int(room['onsiterate']))+\", \"+str(room[\"maxoccupancy\"])+\", 1, 46406),\"\n",
    "    query = query[:-1]\n",
    "    print(\"The Query Was Created\")\n",
    "    await database.execute(query=query)"
   ]
  }
 ],
 "metadata": {
  "kernelspec": {
   "display_name": "Python 3 (ipykernel)",
   "language": "python",
   "name": "python3"
  },
  "language_info": {
   "codemirror_mode": {
    "name": "ipython",
    "version": 3
   },
   "file_extension": ".py",
   "mimetype": "text/x-python",
   "name": "python",
   "nbconvert_exporter": "python",
   "pygments_lexer": "ipython3",
   "version": "3.10.4"
  }
 },
 "nbformat": 4,
 "nbformat_minor": 5
}
