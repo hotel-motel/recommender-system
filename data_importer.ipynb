{
 "cells": [
  {
   "cell_type": "code",
   "execution_count": 1,
   "id": "2d6f53c9",
   "metadata": {},
   "outputs": [],
   "source": [
    "from dotenv import load_dotenv\n",
    "from os import environ\n",
    "from databases import Database\n",
    "import pandas as pd\n",
    "import matplotlib.pyplot as plt\n",
    "import seaborn as sns\n",
    "import numpy as np"
   ]
  },
  {
   "cell_type": "code",
   "execution_count": 2,
   "id": "257a878e",
   "metadata": {},
   "outputs": [],
   "source": [
    "load_dotenv('.env')\n",
    "\n",
    "DATABASE_URL = environ.get('DB_CONNECTION')+'://'+environ.get('DB_USERNAME')+':'+environ.get('DB_PASSWORD')+'@'+environ.get('DB_HOST')+':'+environ.get('DB_PORT')+'/'+environ.get('DB_DATABASE')\n",
    "database = Database(DATABASE_URL)"
   ]
  },
  {
   "cell_type": "code",
   "execution_count": 3,
   "id": "b53d853b",
   "metadata": {},
   "outputs": [],
   "source": [
    "hotels_df = pd.read_csv('../archive/Hotel_details.csv')\n",
    "rooms_df = pd.read_csv('../archive/hotels_RoomPrice.csv')"
   ]
  },
  {
   "cell_type": "code",
   "execution_count": 4,
   "id": "eb41649c",
   "metadata": {},
   "outputs": [
    {
     "data": {
      "text/html": [
       "<div>\n",
       "<style scoped>\n",
       "    .dataframe tbody tr th:only-of-type {\n",
       "        vertical-align: middle;\n",
       "    }\n",
       "\n",
       "    .dataframe tbody tr th {\n",
       "        vertical-align: top;\n",
       "    }\n",
       "\n",
       "    .dataframe thead th {\n",
       "        text-align: right;\n",
       "    }\n",
       "</style>\n",
       "<table border=\"1\" class=\"dataframe\">\n",
       "  <thead>\n",
       "    <tr style=\"text-align: right;\">\n",
       "      <th></th>\n",
       "      <th>index</th>\n",
       "      <th>name</th>\n",
       "    </tr>\n",
       "  </thead>\n",
       "  <tbody>\n",
       "    <tr>\n",
       "      <th>0</th>\n",
       "      <td>0</td>\n",
       "      <td>Dun Luain</td>\n",
       "    </tr>\n",
       "    <tr>\n",
       "      <th>1</th>\n",
       "      <td>1</td>\n",
       "      <td>Stary Dvur</td>\n",
       "    </tr>\n",
       "    <tr>\n",
       "      <th>2</th>\n",
       "      <td>2</td>\n",
       "      <td>San Leone</td>\n",
       "    </tr>\n",
       "    <tr>\n",
       "      <th>3</th>\n",
       "      <td>3</td>\n",
       "      <td>Thorpe on the Hill</td>\n",
       "    </tr>\n",
       "    <tr>\n",
       "      <th>4</th>\n",
       "      <td>4</td>\n",
       "      <td>Longueau</td>\n",
       "    </tr>\n",
       "  </tbody>\n",
       "</table>\n",
       "</div>"
      ],
      "text/plain": [
       "   index                name\n",
       "0      0           Dun Luain\n",
       "1      1          Stary Dvur\n",
       "2      2           San Leone\n",
       "3      3  Thorpe on the Hill\n",
       "4      4            Longueau"
      ]
     },
     "execution_count": 4,
     "metadata": {},
     "output_type": "execute_result"
    }
   ],
   "source": [
    "cities = hotels_df['city'].to_list()\n",
    "cities = list(set(cities))\n",
    "cities = pd.DataFrame(cities, columns=[\"name\"])\n",
    "cities = cities.reset_index()\n",
    "cities.head()"
   ]
  },
  {
   "cell_type": "code",
   "execution_count": 5,
   "id": "4cc874e2",
   "metadata": {},
   "outputs": [
    {
     "name": "stdout",
     "output_type": "stream",
     "text": [
      "The query was created\n"
     ]
    }
   ],
   "source": [
    "await database.connect()\n",
    "query = \"INSERT INTO cities(id, name, image) VALUES\"\n",
    "image_link = 'https://unsplash.com/photos/Nyvq2juw4_o/download?ixid=MnwxMjA3fDB8MXxzZWFyY2h8Mnx8Y2l0eXxlbnwwfHx8fDE2NjUwMDAzNjM&force=true&w=640'\n",
    "for index, city in cities.iterrows():\n",
    "    query = query + \"(\"+str(index)+\", '\"+city['name'].replace(\"'\", \"''\")+\"','\"+image_link+\"'),\"\n",
    "query = query[:-1]\n",
    "print(\"The query was created\")\n",
    "await database.execute(query=query)"
   ]
  },
  {
   "cell_type": "code",
   "execution_count": 6,
   "id": "35b35fe6",
   "metadata": {},
   "outputs": [],
   "source": [
    "hotels = hotels_df[['id', 'hotelname', 'starrating', 'address', 'city']]\n",
    "hotels = hotels.dropna()\n",
    "hotels = hotels.reset_index()"
   ]
  },
  {
   "cell_type": "code",
   "execution_count": 29,
   "id": "9d227284",
   "metadata": {},
   "outputs": [
    {
     "name": "stdout",
     "output_type": "stream",
     "text": [
      "102955\n",
      "The query was created\n",
      "The query was created\n",
      "The query was created\n",
      "The query was created\n",
      "The query was created\n",
      "The query was created\n",
      "The query was created\n",
      "The query was created\n",
      "The query was created\n",
      "The query was created\n",
      "The query was created\n",
      "The query was created\n",
      "The query was created\n",
      "The query was created\n",
      "The query was created\n",
      "The query was created\n",
      "The query was created\n",
      "The query was created\n",
      "The query was created\n",
      "The query was created\n",
      "The query was created\n",
      "The query was created\n",
      "The query was created\n",
      "The query was created\n",
      "The query was created\n",
      "The query was created\n",
      "The query was created\n",
      "The query was created\n",
      "The query was created\n",
      "The query was created\n",
      "The query was created\n",
      "The query was created\n",
      "The query was created\n",
      "The query was created\n",
      "The query was created\n",
      "The query was created\n",
      "The query was created\n",
      "The query was created\n",
      "The query was created\n",
      "The query was created\n",
      "The query was created\n",
      "The query was created\n",
      "The query was created\n",
      "The query was created\n",
      "The query was created\n",
      "The query was created\n",
      "The query was created\n",
      "The query was created\n",
      "The query was created\n",
      "The query was created\n",
      "The query was created\n",
      "The query was created\n"
     ]
    }
   ],
   "source": [
    "load_in_each_query = 2000\n",
    "for x in range(0, hotels['index'].count(), load_in_each_query):\n",
    "    query = \"INSERT INTO hotels(id, name, address, image, credit, star, city_id) VALUES\"\n",
    "    for index, hotel in hotels.iterrows():\n",
    "        if x<=index<x+load_in_each_query:\n",
    "            query = query + \"(\"+str(hotel['id'])+\", '\"+hotel['hotelname'].replace(\"'\", \"''\")+\"', '\"+hotel['address'].replace(\"'\", \"''\")+\"', '\"+image_link+\"', 0, \"+str(hotel[\"starrating\"])+\", \"+str(cities.loc[cities['name']==hotel['city']].index[0])+\"),\"\n",
    "    query = query[:-1]\n",
    "    await database.execute(query=query)"
   ]
  },
  {
   "cell_type": "code",
   "execution_count": null,
   "id": "f199525a",
   "metadata": {},
   "outputs": [],
   "source": []
  }
 ],
 "metadata": {
  "kernelspec": {
   "display_name": "Python 3 (ipykernel)",
   "language": "python",
   "name": "python3"
  },
  "language_info": {
   "codemirror_mode": {
    "name": "ipython",
    "version": 3
   },
   "file_extension": ".py",
   "mimetype": "text/x-python",
   "name": "python",
   "nbconvert_exporter": "python",
   "pygments_lexer": "ipython3",
   "version": "3.10.4"
  }
 },
 "nbformat": 4,
 "nbformat_minor": 5
}
