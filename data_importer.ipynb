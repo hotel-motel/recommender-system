{
 "cells": [
  {
   "cell_type": "code",
   "execution_count": 6,
   "outputs": [],
   "source": [
    "import random\n",
    "from DB import DB\n",
    "import pandas as pd\n",
    "from string import ascii_letters\n",
    "from names import get_first_name"
   ],
   "metadata": {
    "collapsed": false,
    "pycharm": {
     "name": "#%%\n"
    }
   }
  },
  {
   "cell_type": "markdown",
   "source": [
    "### Initialize a connection to database\n",
    "In order to insert data to the database, a connection should be initialized between them."
   ],
   "metadata": {
    "collapsed": false,
    "pycharm": {
     "name": "#%% md\n"
    }
   }
  },
  {
   "cell_type": "code",
   "execution_count": 7,
   "id": "257a878e",
   "metadata": {
    "pycharm": {
     "name": "#%%\n"
    }
   },
   "outputs": [],
   "source": [
    "database = DB().connection"
   ]
  },
  {
   "cell_type": "markdown",
   "source": [
    "### Load mock data\n",
    "Mock data that is used here, could be found via [this link](https://www.kaggle.com/datasets/keshavramaiah/hotel-recommendation).\n",
    "Data should be downloaded and stored in the \"mock_data\" folder."
   ],
   "metadata": {
    "collapsed": false,
    "pycharm": {
     "name": "#%% md\n"
    }
   }
  },
  {
   "cell_type": "code",
   "execution_count": 8,
   "id": "b53d853b",
   "metadata": {
    "pycharm": {
     "name": "#%%\n"
    }
   },
   "outputs": [],
   "source": [
    "hotels_df = pd.read_csv('mock_data/Hotel_details.csv')\n",
    "rooms_df = pd.read_csv('mock_data/hotels_RoomPrice.csv')"
   ]
  },
  {
   "cell_type": "markdown",
   "source": [
    "### Prepare data which is related to the \"cities\" table"
   ],
   "metadata": {
    "collapsed": false,
    "pycharm": {
     "name": "#%% md\n"
    }
   }
  },
  {
   "cell_type": "code",
   "execution_count": 9,
   "id": "eb41649c",
   "metadata": {
    "pycharm": {
     "name": "#%%\n"
    }
   },
   "outputs": [
    {
     "name": "stdout",
     "output_type": "stream",
     "text": [
      "<class 'pandas.core.frame.DataFrame'>\n",
      "RangeIndex: 25693 entries, 0 to 25692\n",
      "Data columns (total 2 columns):\n",
      " #   Column  Non-Null Count  Dtype \n",
      "---  ------  --------------  ----- \n",
      " 0   index   25693 non-null  int64 \n",
      " 1   city    25693 non-null  object\n",
      "dtypes: int64(1), object(1)\n",
      "memory usage: 401.6+ KB\n"
     ]
    }
   ],
   "source": [
    "cities = hotels_df['city']\n",
    "cities = cities.drop_duplicates()\n",
    "cities = cities.reset_index()\n",
    "cities.info()"
   ]
  },
  {
   "cell_type": "markdown",
   "source": [
    "### Initialize a connection with the database"
   ],
   "metadata": {
    "collapsed": false,
    "pycharm": {
     "name": "#%% md\n"
    }
   }
  },
  {
   "cell_type": "code",
   "execution_count": 10,
   "outputs": [],
   "source": [
    "await database.connect()"
   ],
   "metadata": {
    "collapsed": false,
    "pycharm": {
     "name": "#%%\n"
    }
   }
  },
  {
   "cell_type": "markdown",
   "source": [
    "### Insert Cities to the database\n",
    "This block inserts the cities into a table that is called \"cities\" in the database"
   ],
   "metadata": {
    "collapsed": false,
    "pycharm": {
     "name": "#%% md\n"
    }
   }
  },
  {
   "cell_type": "code",
   "execution_count": 11,
   "id": "4cc874e2",
   "metadata": {
    "pycharm": {
     "name": "#%%\n"
    }
   },
   "outputs": [
    {
     "ename": "ConnectionDoesNotExistError",
     "evalue": "connection was closed in the middle of operation",
     "output_type": "error",
     "traceback": [
      "\u001B[1;31m---------------------------------------------------------------------------\u001B[0m",
      "\u001B[1;31mConnectionDoesNotExistError\u001B[0m               Traceback (most recent call last)",
      "Cell \u001B[1;32mIn[11], line 6\u001B[0m\n\u001B[0;32m      4\u001B[0m     query \u001B[38;5;241m+\u001B[39m\u001B[38;5;241m=\u001B[39m \u001B[38;5;124m\"\u001B[39m\u001B[38;5;124m(\u001B[39m\u001B[38;5;132;01m{}\u001B[39;00m\u001B[38;5;124m, \u001B[39m\u001B[38;5;124m'\u001B[39m\u001B[38;5;132;01m{}\u001B[39;00m\u001B[38;5;124m'\u001B[39m\u001B[38;5;124m, \u001B[39m\u001B[38;5;124m'\u001B[39m\u001B[38;5;132;01m{}\u001B[39;00m\u001B[38;5;124m'\u001B[39m\u001B[38;5;124m),\u001B[39m\u001B[38;5;124m\"\u001B[39m\u001B[38;5;241m.\u001B[39mformat(\u001B[38;5;28mstr\u001B[39m(index), city[\u001B[38;5;124m'\u001B[39m\u001B[38;5;124mcity\u001B[39m\u001B[38;5;124m'\u001B[39m]\u001B[38;5;241m.\u001B[39mreplace(\u001B[38;5;124m\"\u001B[39m\u001B[38;5;124m'\u001B[39m\u001B[38;5;124m\"\u001B[39m, \u001B[38;5;124m\"\u001B[39m\u001B[38;5;124m'\u001B[39m\u001B[38;5;124m'\u001B[39m\u001B[38;5;124m\"\u001B[39m), image_link)\n\u001B[0;32m      5\u001B[0m query \u001B[38;5;241m=\u001B[39m query[:\u001B[38;5;241m-\u001B[39m\u001B[38;5;241m1\u001B[39m]\n\u001B[1;32m----> 6\u001B[0m \u001B[38;5;28;01mawait\u001B[39;00m database\u001B[38;5;241m.\u001B[39mexecute(query\u001B[38;5;241m=\u001B[39mquery)\n",
      "File \u001B[1;32mc:\\users\\administrator\\appdata\\local\\programs\\python\\python39\\lib\\site-packages\\databases\\core.py:163\u001B[0m, in \u001B[0;36mDatabase.execute\u001B[1;34m(self, query, values)\u001B[0m\n\u001B[0;32m    159\u001B[0m \u001B[38;5;28;01masync\u001B[39;00m \u001B[38;5;28;01mdef\u001B[39;00m \u001B[38;5;21mexecute\u001B[39m(\n\u001B[0;32m    160\u001B[0m     \u001B[38;5;28mself\u001B[39m, query: typing\u001B[38;5;241m.\u001B[39mUnion[ClauseElement, \u001B[38;5;28mstr\u001B[39m], values: \u001B[38;5;28mdict\u001B[39m \u001B[38;5;241m=\u001B[39m \u001B[38;5;28;01mNone\u001B[39;00m\n\u001B[0;32m    161\u001B[0m ) \u001B[38;5;241m-\u001B[39m\u001B[38;5;241m>\u001B[39m typing\u001B[38;5;241m.\u001B[39mAny:\n\u001B[0;32m    162\u001B[0m     \u001B[38;5;28;01masync\u001B[39;00m \u001B[38;5;28;01mwith\u001B[39;00m \u001B[38;5;28mself\u001B[39m\u001B[38;5;241m.\u001B[39mconnection() \u001B[38;5;28;01mas\u001B[39;00m connection:\n\u001B[1;32m--> 163\u001B[0m         \u001B[38;5;28;01mreturn\u001B[39;00m \u001B[38;5;28;01mawait\u001B[39;00m connection\u001B[38;5;241m.\u001B[39mexecute(query, values)\n",
      "File \u001B[1;32mc:\\users\\administrator\\appdata\\local\\programs\\python\\python39\\lib\\site-packages\\databases\\core.py:274\u001B[0m, in \u001B[0;36mConnection.execute\u001B[1;34m(self, query, values)\u001B[0m\n\u001B[0;32m    272\u001B[0m built_query \u001B[38;5;241m=\u001B[39m \u001B[38;5;28mself\u001B[39m\u001B[38;5;241m.\u001B[39m_build_query(query, values)\n\u001B[0;32m    273\u001B[0m \u001B[38;5;28;01masync\u001B[39;00m \u001B[38;5;28;01mwith\u001B[39;00m \u001B[38;5;28mself\u001B[39m\u001B[38;5;241m.\u001B[39m_query_lock:\n\u001B[1;32m--> 274\u001B[0m     \u001B[38;5;28;01mreturn\u001B[39;00m \u001B[38;5;28;01mawait\u001B[39;00m \u001B[38;5;28mself\u001B[39m\u001B[38;5;241m.\u001B[39m_connection\u001B[38;5;241m.\u001B[39mexecute(built_query)\n",
      "File \u001B[1;32mc:\\users\\administrator\\appdata\\local\\programs\\python\\python39\\lib\\site-packages\\databases\\backends\\postgres.py:217\u001B[0m, in \u001B[0;36mPostgresConnection.execute\u001B[1;34m(self, query)\u001B[0m\n\u001B[0;32m    215\u001B[0m \u001B[38;5;28;01massert\u001B[39;00m \u001B[38;5;28mself\u001B[39m\u001B[38;5;241m.\u001B[39m_connection \u001B[38;5;129;01mis\u001B[39;00m \u001B[38;5;129;01mnot\u001B[39;00m \u001B[38;5;28;01mNone\u001B[39;00m, \u001B[38;5;124m\"\u001B[39m\u001B[38;5;124mConnection is not acquired\u001B[39m\u001B[38;5;124m\"\u001B[39m\n\u001B[0;32m    216\u001B[0m query_str, args, result_columns \u001B[38;5;241m=\u001B[39m \u001B[38;5;28mself\u001B[39m\u001B[38;5;241m.\u001B[39m_compile(query)\n\u001B[1;32m--> 217\u001B[0m \u001B[38;5;28;01mreturn\u001B[39;00m \u001B[38;5;28;01mawait\u001B[39;00m \u001B[38;5;28mself\u001B[39m\u001B[38;5;241m.\u001B[39m_connection\u001B[38;5;241m.\u001B[39mfetchval(query_str, \u001B[38;5;241m*\u001B[39margs)\n",
      "File \u001B[1;32mc:\\users\\administrator\\appdata\\local\\programs\\python\\python39\\lib\\site-packages\\asyncpg\\connection.py:644\u001B[0m, in \u001B[0;36mConnection.fetchval\u001B[1;34m(self, query, column, timeout, *args)\u001B[0m\n\u001B[0;32m    629\u001B[0m \u001B[38;5;250m\u001B[39m\u001B[38;5;124;03m\"\"\"Run a query and return a value in the first row.\u001B[39;00m\n\u001B[0;32m    630\u001B[0m \n\u001B[0;32m    631\u001B[0m \u001B[38;5;124;03m:param str query: Query text.\u001B[39;00m\n\u001B[1;32m   (...)\u001B[0m\n\u001B[0;32m    641\u001B[0m \u001B[38;5;124;03m         None if no records were returned by the query.\u001B[39;00m\n\u001B[0;32m    642\u001B[0m \u001B[38;5;124;03m\"\"\"\u001B[39;00m\n\u001B[0;32m    643\u001B[0m \u001B[38;5;28mself\u001B[39m\u001B[38;5;241m.\u001B[39m_check_open()\n\u001B[1;32m--> 644\u001B[0m data \u001B[38;5;241m=\u001B[39m \u001B[38;5;28;01mawait\u001B[39;00m \u001B[38;5;28mself\u001B[39m\u001B[38;5;241m.\u001B[39m_execute(query, args, \u001B[38;5;241m1\u001B[39m, timeout)\n\u001B[0;32m    645\u001B[0m \u001B[38;5;28;01mif\u001B[39;00m \u001B[38;5;129;01mnot\u001B[39;00m data:\n\u001B[0;32m    646\u001B[0m     \u001B[38;5;28;01mreturn\u001B[39;00m \u001B[38;5;28;01mNone\u001B[39;00m\n",
      "File \u001B[1;32mc:\\users\\administrator\\appdata\\local\\programs\\python\\python39\\lib\\site-packages\\asyncpg\\connection.py:1658\u001B[0m, in \u001B[0;36mConnection._execute\u001B[1;34m(self, query, args, limit, timeout, return_status, ignore_custom_codec, record_class)\u001B[0m\n\u001B[0;32m   1646\u001B[0m \u001B[38;5;28;01masync\u001B[39;00m \u001B[38;5;28;01mdef\u001B[39;00m \u001B[38;5;21m_execute\u001B[39m(\n\u001B[0;32m   1647\u001B[0m     \u001B[38;5;28mself\u001B[39m,\n\u001B[0;32m   1648\u001B[0m     query,\n\u001B[1;32m   (...)\u001B[0m\n\u001B[0;32m   1655\u001B[0m     record_class\u001B[38;5;241m=\u001B[39m\u001B[38;5;28;01mNone\u001B[39;00m\n\u001B[0;32m   1656\u001B[0m ):\n\u001B[0;32m   1657\u001B[0m     \u001B[38;5;28;01mwith\u001B[39;00m \u001B[38;5;28mself\u001B[39m\u001B[38;5;241m.\u001B[39m_stmt_exclusive_section:\n\u001B[1;32m-> 1658\u001B[0m         result, _ \u001B[38;5;241m=\u001B[39m \u001B[38;5;28;01mawait\u001B[39;00m \u001B[38;5;28mself\u001B[39m\u001B[38;5;241m.\u001B[39m__execute(\n\u001B[0;32m   1659\u001B[0m             query,\n\u001B[0;32m   1660\u001B[0m             args,\n\u001B[0;32m   1661\u001B[0m             limit,\n\u001B[0;32m   1662\u001B[0m             timeout,\n\u001B[0;32m   1663\u001B[0m             return_status\u001B[38;5;241m=\u001B[39mreturn_status,\n\u001B[0;32m   1664\u001B[0m             record_class\u001B[38;5;241m=\u001B[39mrecord_class,\n\u001B[0;32m   1665\u001B[0m             ignore_custom_codec\u001B[38;5;241m=\u001B[39mignore_custom_codec,\n\u001B[0;32m   1666\u001B[0m         )\n\u001B[0;32m   1667\u001B[0m     \u001B[38;5;28;01mreturn\u001B[39;00m result\n",
      "File \u001B[1;32mc:\\users\\administrator\\appdata\\local\\programs\\python\\python39\\lib\\site-packages\\asyncpg\\connection.py:1683\u001B[0m, in \u001B[0;36mConnection.__execute\u001B[1;34m(self, query, args, limit, timeout, return_status, ignore_custom_codec, record_class)\u001B[0m\n\u001B[0;32m   1680\u001B[0m executor \u001B[38;5;241m=\u001B[39m \u001B[38;5;28;01mlambda\u001B[39;00m stmt, timeout: \u001B[38;5;28mself\u001B[39m\u001B[38;5;241m.\u001B[39m_protocol\u001B[38;5;241m.\u001B[39mbind_execute(\n\u001B[0;32m   1681\u001B[0m     stmt, args, \u001B[38;5;124m'\u001B[39m\u001B[38;5;124m'\u001B[39m, limit, return_status, timeout)\n\u001B[0;32m   1682\u001B[0m timeout \u001B[38;5;241m=\u001B[39m \u001B[38;5;28mself\u001B[39m\u001B[38;5;241m.\u001B[39m_protocol\u001B[38;5;241m.\u001B[39m_get_timeout(timeout)\n\u001B[1;32m-> 1683\u001B[0m \u001B[38;5;28;01mreturn\u001B[39;00m \u001B[38;5;28;01mawait\u001B[39;00m \u001B[38;5;28mself\u001B[39m\u001B[38;5;241m.\u001B[39m_do_execute(\n\u001B[0;32m   1684\u001B[0m     query,\n\u001B[0;32m   1685\u001B[0m     executor,\n\u001B[0;32m   1686\u001B[0m     timeout,\n\u001B[0;32m   1687\u001B[0m     record_class\u001B[38;5;241m=\u001B[39mrecord_class,\n\u001B[0;32m   1688\u001B[0m     ignore_custom_codec\u001B[38;5;241m=\u001B[39mignore_custom_codec,\n\u001B[0;32m   1689\u001B[0m )\n",
      "File \u001B[1;32mc:\\users\\administrator\\appdata\\local\\programs\\python\\python39\\lib\\site-packages\\asyncpg\\connection.py:1730\u001B[0m, in \u001B[0;36mConnection._do_execute\u001B[1;34m(self, query, executor, timeout, retry, ignore_custom_codec, record_class)\u001B[0m\n\u001B[0;32m   1728\u001B[0m \u001B[38;5;28;01mtry\u001B[39;00m:\n\u001B[0;32m   1729\u001B[0m     \u001B[38;5;28;01mif\u001B[39;00m timeout \u001B[38;5;129;01mis\u001B[39;00m \u001B[38;5;28;01mNone\u001B[39;00m:\n\u001B[1;32m-> 1730\u001B[0m         result \u001B[38;5;241m=\u001B[39m \u001B[38;5;28;01mawait\u001B[39;00m executor(stmt, \u001B[38;5;28;01mNone\u001B[39;00m)\n\u001B[0;32m   1731\u001B[0m     \u001B[38;5;28;01melse\u001B[39;00m:\n\u001B[0;32m   1732\u001B[0m         \u001B[38;5;28;01mtry\u001B[39;00m:\n",
      "File \u001B[1;32mc:\\users\\administrator\\appdata\\local\\programs\\python\\python39\\lib\\site-packages\\asyncpg\\protocol\\protocol.pyx:201\u001B[0m, in \u001B[0;36mbind_execute\u001B[1;34m()\u001B[0m\n",
      "\u001B[1;31mConnectionDoesNotExistError\u001B[0m: connection was closed in the middle of operation"
     ]
    }
   ],
   "source": [
    "query = \"INSERT INTO cities(id, name, image) VALUES\"\n",
    "image_link = 'https://unsplash.com/photos/Nyvq2juw4_o/download?ixid=MnwxMjA3fDB8MXxzZWFyY2h8Mnx8Y2l0eXxlbnwwfHx8fDE2NjUwMDAzNjM&force=true&w=640'\n",
    "for index, city in cities.iterrows():\n",
    "    query += \"({}, '{}', '{}'),\".format(str(index), city['city'].replace(\"'\", \"''\"), image_link)\n",
    "query = query[:-1]\n",
    "await database.execute(query=query)"
   ]
  },
  {
   "cell_type": "markdown",
   "source": [
    "### Prepare data which is relate to the \"hotels\" table"
   ],
   "metadata": {
    "collapsed": false,
    "pycharm": {
     "name": "#%% md\n"
    }
   }
  },
  {
   "cell_type": "code",
   "execution_count": null,
   "id": "35b35fe6",
   "metadata": {
    "pycharm": {
     "name": "#%%\n"
    }
   },
   "outputs": [],
   "source": [
    "hotels = hotels_df[['hotelid', 'hotelname', 'starrating', 'address', 'city']]\n",
    "hotels = hotels.dropna()\n",
    "hotels = hotels.drop_duplicates(subset=[\"hotelid\"], keep='last')\n",
    "hotels = hotels.reset_index()\n",
    "hotels.info()"
   ]
  },
  {
   "cell_type": "markdown",
   "source": [
    "### Insert Hotels to the database\n",
    "This block inserts the hotels into a table that is called \"hotels\" in the database"
   ],
   "metadata": {
    "collapsed": false,
    "pycharm": {
     "name": "#%% md\n"
    }
   }
  },
  {
   "cell_type": "code",
   "execution_count": null,
   "id": "9d227284",
   "metadata": {
    "pycharm": {
     "name": "#%%\n"
    }
   },
   "outputs": [],
   "source": [
    "load_in_each_query = 10000\n",
    "for x in range(0, hotels['index'].count(), load_in_each_query):\n",
    "    query = \"INSERT INTO hotels(id, name, address, image, credit, star, city_id) VALUES \"\n",
    "    for index, hotel in hotels.iterrows():\n",
    "        if x<=index<x+load_in_each_query:\n",
    "            query += \"({}, '{}', '{}', '{}', {}, {}, {}),\".format(str(hotel['hotelid']), hotel['hotelname'].replace(\"'\", \"''\"), hotel['address'].replace(\"'\", \"''\"), 'image_link', 0, str(hotel[\"starrating\"]), str(cities.loc[cities['city']==hotel['city']].index[0]))\n",
    "    query = query[:-1]\n",
    "    await database.execute(query=query)"
   ]
  },
  {
   "cell_type": "markdown",
   "source": [
    "### Prepare data which is relate to the \"rooms\" table"
   ],
   "metadata": {
    "collapsed": false,
    "pycharm": {
     "name": "#%% md\n"
    }
   }
  },
  {
   "cell_type": "code",
   "execution_count": null,
   "id": "33f0b679",
   "metadata": {
    "pycharm": {
     "name": "#%%\n"
    }
   },
   "outputs": [],
   "source": [
    "rooms = rooms_df[['id', 'onsiterate', 'maxoccupancy', 'hotelcode']]\n",
    "rooms = rooms.dropna()\n",
    "rooms = rooms.reset_index()\n",
    "rooms.info()"
   ]
  },
  {
   "cell_type": "markdown",
   "source": [
    "### Insert Rooms to the database\n",
    "This block inserts the rooms into a table that is called \"rooms\" in the database"
   ],
   "metadata": {
    "collapsed": false,
    "pycharm": {
     "name": "#%% md\n"
    }
   }
  },
  {
   "cell_type": "code",
   "execution_count": null,
   "outputs": [],
   "source": [
    "load_in_each_query = 10000\n",
    "for x in range(0, rooms['index'].count(), load_in_each_query):\n",
    "    query = \"INSERT INTO rooms(id, number, price, max_capacity, floor, hotel_id) VALUES \"\n",
    "    for index, room in rooms.iterrows():\n",
    "        if x<=index<x+load_in_each_query:\n",
    "            query += \"({}, '{}', {}, {}, {}, {}),\".format(str(index), str(int(room['id'])), str(int(room['onsiterate'])), str(room[\"maxoccupancy\"]), 1, 8992131)\n",
    "    query = query[:-1]\n",
    "    await database.execute(query=query)"
   ],
   "metadata": {
    "collapsed": false,
    "pycharm": {
     "name": "#%%\n"
    }
   }
  },
  {
   "cell_type": "markdown",
   "source": [
    "### Generate fake users"
   ],
   "metadata": {
    "collapsed": false,
    "pycharm": {
     "name": "#%% md\n"
    }
   }
  },
  {
   "cell_type": "code",
   "execution_count": null,
   "outputs": [],
   "source": [
    "query = \"INSERT INTO users(id, name, email, email_verified_at, password, remember_token) VALUES \"\n",
    "for index in range(1, 300001):\n",
    "    name=get_first_name()\n",
    "    email=''\n",
    "    for _ in range(10):\n",
    "        email+=random.choice(ascii_letters)\n",
    "    query += \"({}, '{}', '{}', '{}', '{}', '{}'),\".format(str(index), name, email+'@example.com', '2022-12-15 22:00:00', 'password', 'xzasfsfsfg')\n",
    "    if index % 1000 == 0:\n",
    "        query = query[:-1]\n",
    "        await database.execute(query=query)\n",
    "        query = \"INSERT INTO users(id, name, email, email_verified_at, password, remember_token) VALUES \""
   ],
   "metadata": {
    "collapsed": false,
    "pycharm": {
     "name": "#%%\n"
    }
   }
  },
  {
   "cell_type": "code",
   "execution_count": null,
   "outputs": [],
   "source": [
    "query = \"INSERT INTO trips(start, end, amount, room_id, creator_id) VALUES \"\n",
    "for index in range(1, 500001):\n",
    "    creator_id=random.randint(1, 300000)\n",
    "    query += \"('{}', '{}', {}, {}, {}),\".format('2022-12-15 22:00:00', '2022-12-16 22:00:00', 1000, 20, creator_id)\n",
    "    if index % 1000 == 0:\n",
    "        query = query[:-1]\n",
    "        await database.execute(query=query)\n",
    "        query = \"INSERT INTO trips(start, end, amount, room_id, creator_id) VALUES \""
   ],
   "metadata": {
    "collapsed": false,
    "pycharm": {
     "name": "#%%\n"
    }
   }
  },
  {
   "cell_type": "markdown",
   "source": [
    "### Close the connection with the database"
   ],
   "metadata": {
    "collapsed": false,
    "pycharm": {
     "name": "#%% md\n"
    }
   }
  },
  {
   "cell_type": "code",
   "execution_count": null,
   "outputs": [],
   "source": [
    "await database.disconnect()"
   ],
   "metadata": {
    "collapsed": false,
    "pycharm": {
     "name": "#%%\n"
    }
   }
  }
 ],
 "metadata": {
  "kernelspec": {
   "display_name": "Python 3 (ipykernel)",
   "language": "python",
   "name": "python3"
  },
  "language_info": {
   "codemirror_mode": {
    "name": "ipython",
    "version": 3
   },
   "file_extension": ".py",
   "mimetype": "text/x-python",
   "name": "python",
   "nbconvert_exporter": "python",
   "pygments_lexer": "ipython3",
   "version": "3.10.4"
  }
 },
 "nbformat": 4,
 "nbformat_minor": 5
}