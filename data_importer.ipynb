{
 "cells": [
  {
   "cell_type": "code",
   "execution_count": 1,
   "outputs": [],
   "source": [
    "from dotenv import load_dotenv\n",
    "from os import environ\n",
    "from databases import Database\n",
    "import pandas as pd\n",
    "from names import get_first_name\n",
    "import random\n",
    "from string import ascii_letters"
   ],
   "metadata": {
    "collapsed": false,
    "pycharm": {
     "name": "#%%\n"
    }
   }
  },
  {
   "cell_type": "markdown",
   "source": [
    "### Initialize a connection to database\n",
    "In order to insert data to the database, a connection should be initialized between them."
   ],
   "metadata": {
    "collapsed": false,
    "pycharm": {
     "name": "#%% md\n"
    }
   }
  },
  {
   "cell_type": "code",
   "execution_count": 2,
   "id": "257a878e",
   "metadata": {
    "pycharm": {
     "name": "#%%\n"
    }
   },
   "outputs": [],
   "source": [
    "load_dotenv('.env')\n",
    "DATABASE_URL = environ.get('DB_CONNECTION')+'://'+environ.get('DB_USERNAME')+':'+environ.get('DB_PASSWORD')+'@'+environ.get('DB_HOST')+':'+environ.get('DB_PORT')+'/'+environ.get('DB_DATABASE')\n",
    "database = Database(DATABASE_URL)"
   ]
  },
  {
   "cell_type": "markdown",
   "source": [
    "### Load mock data\n",
    "Mock data that is used here, could be found via [this link](https://www.kaggle.com/datasets/keshavramaiah/hotel-recommendation).\n",
    "Data should be downloaded and stored in the \"mock_data\" folder."
   ],
   "metadata": {
    "collapsed": false,
    "pycharm": {
     "name": "#%% md\n"
    }
   }
  },
  {
   "cell_type": "code",
   "execution_count": 3,
   "id": "b53d853b",
   "metadata": {
    "pycharm": {
     "name": "#%%\n"
    }
   },
   "outputs": [],
   "source": [
    "hotels_df = pd.read_csv('mock_data/Hotel_details.csv')\n",
    "rooms_df = pd.read_csv('mock_data/hotels_RoomPrice.csv')"
   ]
  },
  {
   "cell_type": "markdown",
   "source": [
    "### Prepare data which is related to the \"cities\" table"
   ],
   "metadata": {
    "collapsed": false,
    "pycharm": {
     "name": "#%% md\n"
    }
   }
  },
  {
   "cell_type": "code",
   "execution_count": 4,
   "id": "eb41649c",
   "metadata": {
    "pycharm": {
     "name": "#%%\n"
    }
   },
   "outputs": [
    {
     "name": "stdout",
     "output_type": "stream",
     "text": [
      "<class 'pandas.core.frame.DataFrame'>\n",
      "RangeIndex: 25693 entries, 0 to 25692\n",
      "Data columns (total 2 columns):\n",
      " #   Column  Non-Null Count  Dtype \n",
      "---  ------  --------------  ----- \n",
      " 0   index   25693 non-null  int64 \n",
      " 1   city    25693 non-null  object\n",
      "dtypes: int64(1), object(1)\n",
      "memory usage: 401.6+ KB\n"
     ]
    }
   ],
   "source": [
    "cities = hotels_df['city']\n",
    "cities = cities.drop_duplicates()\n",
    "cities = cities.reset_index()\n",
    "cities.info()"
   ]
  },
  {
   "cell_type": "markdown",
   "source": [
    "### Clear tables\n",
    "Remove all records that have been inserted to the tables"
   ],
   "metadata": {
    "collapsed": false,
    "pycharm": {
     "name": "#%% md\n"
    }
   }
  },
  {
   "cell_type": "code",
   "execution_count": null,
   "outputs": [],
   "source": [
    "await database.connect()\n",
    "tables = ['rooms', 'hotels', 'cities', 'users']\n",
    "for table in tables:\n",
    "    query = \"DELETE FROM {}\".format(table)\n",
    "    await database.execute(query = query)"
   ],
   "metadata": {
    "collapsed": false,
    "pycharm": {
     "name": "#%%\n",
     "is_executing": true
    }
   }
  },
  {
   "cell_type": "markdown",
   "source": [
    "### Insert Cities to the database\n",
    "This block inserts the cities into a table that is called \"cities\" in the database"
   ],
   "metadata": {
    "collapsed": false,
    "pycharm": {
     "name": "#%% md\n"
    }
   }
  },
  {
   "cell_type": "code",
   "execution_count": null,
   "id": "4cc874e2",
   "metadata": {
    "pycharm": {
     "name": "#%%\n",
     "is_executing": true
    }
   },
   "outputs": [],
   "source": [
    "query = \"INSERT INTO cities(id, name, image) VALUES\"\n",
    "image_link = 'https://unsplash.com/photos/Nyvq2juw4_o/download?ixid=MnwxMjA3fDB8MXxzZWFyY2h8Mnx8Y2l0eXxlbnwwfHx8fDE2NjUwMDAzNjM&force=true&w=640'\n",
    "for index, city in cities.iterrows():\n",
    "    query = query + \"(\"+str(index)+\", '\"+city['city'].replace(\"'\", \"''\")+\"','\"+image_link+\"'),\"\n",
    "query = query[:-1]\n",
    "await database.execute(query=query)"
   ]
  },
  {
   "cell_type": "markdown",
   "source": [
    "### Prepare data which is relate to the \"hotels\" table"
   ],
   "metadata": {
    "collapsed": false,
    "pycharm": {
     "name": "#%% md\n"
    }
   }
  },
  {
   "cell_type": "code",
   "execution_count": null,
   "id": "35b35fe6",
   "metadata": {
    "pycharm": {
     "name": "#%%\n",
     "is_executing": true
    }
   },
   "outputs": [],
   "source": [
    "hotels = hotels_df[['hotelid', 'hotelname', 'starrating', 'address', 'city']]\n",
    "hotels = hotels.dropna()\n",
    "hotels = hotels.drop_duplicates(subset=[\"hotelid\"], keep='last')\n",
    "hotels = hotels.reset_index()\n",
    "hotels.info()"
   ]
  },
  {
   "cell_type": "markdown",
   "source": [
    "### Insert Hotels to the database\n",
    "This block inserts the hotels into a table that is called \"hotels\" in the database"
   ],
   "metadata": {
    "collapsed": false,
    "pycharm": {
     "name": "#%% md\n"
    }
   }
  },
  {
   "cell_type": "code",
   "execution_count": null,
   "id": "9d227284",
   "metadata": {
    "pycharm": {
     "name": "#%%\n",
     "is_executing": true
    }
   },
   "outputs": [],
   "source": [
    "load_in_each_query = 10000\n",
    "for x in range(0, hotels['index'].count(), load_in_each_query):\n",
    "    query = \"INSERT INTO hotels(id, name, address, image, credit, star, city_id) VALUES \"\n",
    "    for index, hotel in hotels.iterrows():\n",
    "        if x<=index<x+load_in_each_query:\n",
    "            query = query + \"(\"+str(hotel['hotelid'])+\", '\"+hotel['hotelname'].replace(\"'\", \"''\")+\"', '\"+hotel['address'].replace(\"'\", \"''\")+\"', 'image_link', 0, \"+str(hotel[\"starrating\"])+\", \"+str(cities.loc[cities['city']==hotel['city']].index[0])+\"),\"\n",
    "    query = query[:-1]\n",
    "    await database.execute(query=query)"
   ]
  },
  {
   "cell_type": "markdown",
   "source": [
    "### Prepare data which is relate to the \"rooms\" table"
   ],
   "metadata": {
    "collapsed": false,
    "pycharm": {
     "name": "#%% md\n"
    }
   }
  },
  {
   "cell_type": "code",
   "execution_count": null,
   "id": "33f0b679",
   "metadata": {
    "pycharm": {
     "name": "#%%\n",
     "is_executing": true
    }
   },
   "outputs": [],
   "source": [
    "rooms = rooms_df[['id', 'onsiterate', 'maxoccupancy', 'hotelcode']]\n",
    "rooms = rooms.dropna()\n",
    "rooms = rooms.reset_index()\n",
    "rooms.info()"
   ]
  },
  {
   "cell_type": "markdown",
   "source": [
    "hotels.info()\n",
    "### Insert Rooms to the database\n",
    "This block inserts the rooms into a table that is called \"rooms\" in the database"
   ],
   "metadata": {
    "collapsed": false,
    "pycharm": {
     "name": "#%% md\n"
    }
   }
  },
  {
   "cell_type": "code",
   "execution_count": null,
   "outputs": [],
   "source": [
    "load_in_each_query = 10000\n",
    "for x in range(0, rooms['index'].count(), load_in_each_query):\n",
    "    query = \"INSERT INTO rooms(id, number, price, max_capacity, floor, hotel_id) VALUES \"\n",
    "    for index, room in rooms.iterrows():\n",
    "        if x<=index<x+load_in_each_query:\n",
    "            query = query + \"(\"+str(index)+\", '\"+str(int(room['id']))+\"', \"+str(int(room['onsiterate']))+\", \"+str(room[\"maxoccupancy\"])+\", 1, 8992131),\"\n",
    "    query = query[:-1]\n",
    "    await database.execute(query=query)"
   ],
   "metadata": {
    "collapsed": false,
    "pycharm": {
     "name": "#%%\n",
     "is_executing": true
    }
   }
  },
  {
   "cell_type": "markdown",
   "source": [
    "### Generate fake users"
   ],
   "metadata": {
    "collapsed": false,
    "pycharm": {
     "name": "#%% md\n"
    }
   }
  },
  {
   "cell_type": "code",
   "execution_count": null,
   "outputs": [],
   "source": [
    "query = \"INSERT INTO users(id, name, email, email_verified_at, password, remember_token) VALUES \"\n",
    "for index in range(1, 300001):\n",
    "    name=get_first_name()\n",
    "    email=''\n",
    "    for _ in range(10):\n",
    "        email+=random.choice(ascii_letters)\n",
    "    query = query + \"(\"+str(index)+\", '\"+name+\"', '\"+email+\"@example.com', '2022-12-15 22:00:00', 'password', 'xzasfsfsfg'),\"\n",
    "    if index % 1000 == 0:\n",
    "        query = query[:-1]\n",
    "        await database.execute(query=query)\n",
    "        query = \"INSERT INTO users(id, name, email, email_verified_at, password, remember_token) VALUES \""
   ],
   "metadata": {
    "collapsed": false,
    "pycharm": {
     "name": "#%%\n",
     "is_executing": true
    }
   }
  }
 ],
 "metadata": {
  "kernelspec": {
   "display_name": "Python 3 (ipykernel)",
   "language": "python",
   "name": "python3"
  },
  "language_info": {
   "codemirror_mode": {
    "name": "ipython",
    "version": 3
   },
   "file_extension": ".py",
   "mimetype": "text/x-python",
   "name": "python",
   "nbconvert_exporter": "python",
   "pygments_lexer": "ipython3",
   "version": "3.10.4"
  }
 },
 "nbformat": 4,
 "nbformat_minor": 5
}