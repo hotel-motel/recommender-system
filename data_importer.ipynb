{
 "cells": [
  {
   "cell_type": "code",
   "execution_count": 1,
   "id": "a2d2b5ac",
   "metadata": {
    "pycharm": {
     "name": "#%%\n"
    }
   },
   "outputs": [],
   "source": [
    "import random\n",
    "from DB import DB\n",
    "import pandas as pd\n",
    "from string import ascii_letters\n",
    "from random import randint"
   ]
  },
  {
   "cell_type": "markdown",
   "id": "2f8ac595",
   "metadata": {
    "pycharm": {
     "name": "#%% md\n"
    }
   },
   "source": [
    "### Initialize a connection to database\n",
    "In order to insert data to the database, a connection should be initialized between them."
   ]
  },
  {
   "cell_type": "code",
   "execution_count": 2,
   "id": "257a878e",
   "metadata": {
    "pycharm": {
     "name": "#%%\n"
    }
   },
   "outputs": [],
   "source": [
    "database = DB().connection"
   ]
  },
  {
   "cell_type": "markdown",
   "id": "b035b307",
   "metadata": {
    "pycharm": {
     "name": "#%% md\n"
    }
   },
   "source": [
    "### Load mock data\n",
    "Mock data that is used here, could be found via [this link](https://www.kaggle.com/datasets/keshavramaiah/hotel-recommendation).\n",
    "Data should be downloaded and stored in the \"mock_data\" folder."
   ]
  },
  {
   "cell_type": "code",
   "execution_count": 3,
   "id": "b53d853b",
   "metadata": {
    "pycharm": {
     "name": "#%%\n"
    }
   },
   "outputs": [],
   "source": [
    "hotels_df = pd.read_csv('mock_data/Hotel_details.csv')\n",
    "rooms_df = pd.read_csv('mock_data/hotels_RoomPrice.csv')"
   ]
  },
  {
   "cell_type": "markdown",
   "id": "280e448c",
   "metadata": {
    "pycharm": {
     "name": "#%% md\n"
    }
   },
   "source": [
    "### Prepare data which is related to the \"cities\" table"
   ]
  },
  {
   "cell_type": "code",
   "execution_count": 4,
   "id": "eb41649c",
   "metadata": {
    "pycharm": {
     "name": "#%%\n"
    }
   },
   "outputs": [
    {
     "name": "stdout",
     "output_type": "stream",
     "text": [
      "<class 'pandas.core.frame.DataFrame'>\n",
      "RangeIndex: 25693 entries, 0 to 25692\n",
      "Data columns (total 2 columns):\n",
      " #   Column  Non-Null Count  Dtype \n",
      "---  ------  --------------  ----- \n",
      " 0   index   25693 non-null  int64 \n",
      " 1   city    25693 non-null  object\n",
      "dtypes: int64(1), object(1)\n",
      "memory usage: 401.6+ KB\n"
     ]
    }
   ],
   "source": [
    "cities = hotels_df['city']\n",
    "cities = cities.drop_duplicates()\n",
    "cities = cities.reset_index()\n",
    "cities.info()"
   ]
  },
  {
   "cell_type": "markdown",
   "id": "4a6f8f86",
   "metadata": {
    "pycharm": {
     "name": "#%% md\n"
    }
   },
   "source": [
    "### Initialize a connection with the database"
   ]
  },
  {
   "cell_type": "code",
   "execution_count": 5,
   "id": "eaa029f7",
   "metadata": {
    "pycharm": {
     "name": "#%%\n"
    }
   },
   "outputs": [],
   "source": [
    "await database.connect()"
   ]
  },
  {
   "cell_type": "markdown",
   "id": "ec435dd7",
   "metadata": {
    "pycharm": {
     "name": "#%% md\n"
    }
   },
   "source": [
    "### Insert Cities to the database\n",
    "This block inserts the cities into a table that is called \"cities\" in the database"
   ]
  },
  {
   "cell_type": "code",
   "execution_count": 6,
   "id": "4cc874e2",
   "metadata": {
    "pycharm": {
     "name": "#%%\n"
    }
   },
   "outputs": [],
   "source": [
    "query = \"INSERT INTO cities(id, name, image) VALUES\"\n",
    "image_link = 'https://unsplash.com/photos/Nyvq2juw4_o/download?ixid=MnwxMjA3fDB8MXxzZWFyY2h8Mnx8Y2l0eXxlbnwwfHx8fDE2NjUwMDAzNjM&force=true&w=640'\n",
    "for index, city in cities.iterrows():\n",
    "    query += \"({}, '{}', '{}'),\".format(str(index), city['city'].replace(\"'\", \"''\"), image_link)\n",
    "query = query[:-1]\n",
    "await database.execute(query=query)"
   ]
  },
  {
   "cell_type": "markdown",
   "id": "9c684d15",
   "metadata": {
    "pycharm": {
     "name": "#%% md\n"
    }
   },
   "source": [
    "### Prepare data which is relate to the \"hotels\" table"
   ]
  },
  {
   "cell_type": "code",
   "execution_count": 7,
   "id": "35b35fe6",
   "metadata": {
    "pycharm": {
     "name": "#%%\n"
    }
   },
   "outputs": [
    {
     "name": "stdout",
     "output_type": "stream",
     "text": [
      "<class 'pandas.core.frame.DataFrame'>\n",
      "RangeIndex: 101103 entries, 0 to 101102\n",
      "Data columns (total 6 columns):\n",
      " #   Column      Non-Null Count   Dtype \n",
      "---  ------      --------------   ----- \n",
      " 0   index       101103 non-null  int64 \n",
      " 1   hotelid     101103 non-null  int64 \n",
      " 2   hotelname   101103 non-null  object\n",
      " 3   starrating  101103 non-null  int64 \n",
      " 4   address     101103 non-null  object\n",
      " 5   city        101103 non-null  object\n",
      "dtypes: int64(3), object(3)\n",
      "memory usage: 4.6+ MB\n"
     ]
    }
   ],
   "source": [
    "hotels = hotels_df[['hotelid', 'hotelname', 'starrating', 'address', 'city']]\n",
    "hotels = hotels.dropna()\n",
    "hotels = hotels.drop_duplicates(subset=[\"hotelid\"], keep='last')\n",
    "hotels = hotels.reset_index()\n",
    "hotels.info()"
   ]
  },
  {
   "cell_type": "markdown",
   "id": "ff94aefe",
   "metadata": {
    "pycharm": {
     "name": "#%% md\n"
    }
   },
   "source": [
    "### Insert Hotels to the database\n",
    "This block inserts the hotels into a table that is called \"hotels\" in the database"
   ]
  },
  {
   "cell_type": "code",
   "execution_count": 8,
   "id": "9d227284",
   "metadata": {
    "pycharm": {
     "name": "#%%\n"
    }
   },
   "outputs": [],
   "source": [
    "load_in_each_query = 10000\n",
    "image_link = 'https://unsplash.com/photos/n_IKQDCyrG0/download?ixid=M3wxMjA3fDB8MXxzZWFyY2h8Mnx8aG90ZWx8ZW58MHx8fHwxNjg5NTQ1MDYzfDA&force=true'\n",
    "for x in range(0, hotels['index'].count(), load_in_each_query):\n",
    "    query = \"INSERT INTO hotels(id, name, address, image, credit, star, city_id) VALUES \"\n",
    "    for index, hotel in hotels.iterrows():\n",
    "        if x<=index<x+load_in_each_query:\n",
    "            query += \"({}, '{}', '{}', '{}', {}, {}, {}),\".format(str(hotel['hotelid']), hotel['hotelname'].replace(\"'\", \"''\"), hotel['address'].replace(\"'\", \"''\"), image_link, randint(0, 10000), str(hotel[\"starrating\"]), str(cities.loc[cities['city']==hotel['city']].index[0]))\n",
    "    query = query[:-1]\n",
    "    await database.execute(query=query)"
   ]
  },
  {
   "cell_type": "markdown",
   "id": "3c7bd847",
   "metadata": {
    "pycharm": {
     "name": "#%% md\n"
    }
   },
   "source": [
    "### Prepare data which is relate to the \"rooms\" table"
   ]
  },
  {
   "cell_type": "code",
   "execution_count": 9,
   "id": "33f0b679",
   "metadata": {
    "pycharm": {
     "name": "#%%\n"
    }
   },
   "outputs": [
    {
     "name": "stdout",
     "output_type": "stream",
     "text": [
      "<class 'pandas.core.frame.DataFrame'>\n",
      "RangeIndex: 165873 entries, 0 to 165872\n",
      "Data columns (total 5 columns):\n",
      " #   Column        Non-Null Count   Dtype  \n",
      "---  ------        --------------   -----  \n",
      " 0   index         165873 non-null  int64  \n",
      " 1   id            165873 non-null  int64  \n",
      " 2   onsiterate    165873 non-null  float64\n",
      " 3   maxoccupancy  165873 non-null  int64  \n",
      " 4   hotelcode     165873 non-null  int64  \n",
      "dtypes: float64(1), int64(4)\n",
      "memory usage: 6.3 MB\n"
     ]
    }
   ],
   "source": [
    "rooms = rooms_df[['id', 'onsiterate', 'maxoccupancy', 'hotelcode']]\n",
    "rooms = rooms.dropna()\n",
    "rooms = rooms.reset_index()\n",
    "rooms.info()"
   ]
  },
  {
   "cell_type": "markdown",
   "id": "2af43b60",
   "metadata": {
    "pycharm": {
     "name": "#%% md\n"
    }
   },
   "source": [
    "### Insert Rooms to the database\n",
    "This block inserts the rooms into a table that is called \"rooms\" in the database"
   ]
  },
  {
   "cell_type": "code",
   "execution_count": 10,
   "id": "2b3b7b6a",
   "metadata": {
    "pycharm": {
     "name": "#%%\n"
    }
   },
   "outputs": [],
   "source": [
    "load_in_each_query = 10000\n",
    "for x in range(0, rooms['index'].count(), load_in_each_query):\n",
    "    query = \"INSERT INTO rooms(id, number, price, max_capacity, floor, hotel_id) VALUES \"\n",
    "    for index, room in rooms.iterrows():\n",
    "        if x<=index<x+load_in_each_query:\n",
    "            query += \"({}, '{}', {}, {}, {}, {}),\".format(str(index), str(int(room['id'])), str(int(room['onsiterate'])), str(room[\"maxoccupancy\"]), 1, 8992131)\n",
    "    query = query[:-1]\n",
    "    await database.execute(query=query)"
   ]
  },
  {
   "cell_type": "markdown",
   "id": "d6bf3fba",
   "metadata": {
    "pycharm": {
     "name": "#%% md\n"
    }
   },
   "source": [
    "### Generate fake users"
   ]
  },
  {
   "cell_type": "code",
   "execution_count": 13,
   "id": "f9547846",
   "metadata": {
    "pycharm": {
     "name": "#%%\n"
    }
   },
   "outputs": [],
   "source": [
    "query = \"INSERT INTO users(id, name, email, email_verified_at, password, remember_token) VALUES \"\n",
    "for index in range(1, 300001):\n",
    "    name='user '+str(index)\n",
    "    email=''\n",
    "    for _ in range(10):\n",
    "        email+=random.choice(ascii_letters)\n",
    "    query += \"({}, '{}', '{}', '{}', '{}', '{}'),\".format(str(index), name, email+'@example.com', '2022-12-15 22:00:00', 'password', 'xzasfsfsfg')\n",
    "    if index % 1000 == 0:\n",
    "        query = query[:-1]\n",
    "        await database.execute(query=query)\n",
    "        query = \"INSERT INTO users(id, name, email, email_verified_at, password, remember_token) VALUES \""
   ]
  },
  {
   "cell_type": "markdown",
   "id": "ca86a54c",
   "metadata": {},
   "source": [
    "### Generate fake trips"
   ]
  },
  {
   "cell_type": "code",
   "execution_count": 16,
   "id": "74a22ce6",
   "metadata": {
    "pycharm": {
     "name": "#%%\n"
    }
   },
   "outputs": [],
   "source": [
    "query = \"INSERT INTO trips(\\\"start\\\", \\\"end\\\", amount, room_id, creator_id) VALUES \"\n",
    "for index in range(1, 500001):\n",
    "    creator_id=random.randint(1, 300000)\n",
    "    query += \"('{}', '{}', {}, {}, {}),\".format('2022-12-15 22:00:00', '2022-12-16 22:00:00', 1000, 20, creator_id)\n",
    "    if index % 1000 == 0:\n",
    "        query = query[:-1]\n",
    "        await database.execute(query=query)\n",
    "        query = \"INSERT INTO trips(\\\"start\\\", \\\"end\\\", amount, room_id, creator_id) VALUES \""
   ]
  },
  {
   "cell_type": "markdown",
   "id": "a0bf8b81",
   "metadata": {},
   "source": [
    "### Generate fake passengers"
   ]
  },
  {
   "cell_type": "code",
   "execution_count": 27,
   "id": "216907c5",
   "metadata": {},
   "outputs": [],
   "source": [
    "passenger_id = 1\n",
    "dispatcher = 0\n",
    "query = \"INSERT INTO passengers(id, first_name, last_name, national_code, trip_id) VALUES \"\n",
    "for trip_id in range(2, 500001):\n",
    "    for _ in range(1, random.choice([5, 10, 15])):\n",
    "        query += \"({}, '{}', '{}', '{}', {}),\".format(passenger_id, 'passenger f'+str(passenger_id), 'passenger l'+str(passenger_id), '4274271212', trip_id)\n",
    "        passenger_id += 1\n",
    "        dispatcher +=1\n",
    "        if dispatcher % 10000 == 0:\n",
    "            query = query[:-1]\n",
    "            dispatcher = 0\n",
    "            await database.execute(query=query)\n",
    "            query = \"INSERT INTO passengers(id, first_name, last_name, national_code, trip_id) VALUES \"\n",
    "query = query[:-1]\n",
    "await database.execute(query=query)"
   ]
  },
  {
   "cell_type": "markdown",
   "id": "f5aaccaa",
   "metadata": {
    "pycharm": {
     "name": "#%% md\n"
    }
   },
   "source": [
    "### Close the connection with the database"
   ]
  },
  {
   "cell_type": "code",
   "execution_count": 28,
   "id": "374f3d7f",
   "metadata": {
    "pycharm": {
     "name": "#%%\n"
    }
   },
   "outputs": [],
   "source": [
    "await database.disconnect()"
   ]
  },
  {
   "cell_type": "code",
   "execution_count": null,
   "id": "57433741",
   "metadata": {},
   "outputs": [],
   "source": []
  }
 ],
 "metadata": {
  "kernelspec": {
   "display_name": "Python 3 (ipykernel)",
   "language": "python",
   "name": "python3"
  },
  "language_info": {
   "codemirror_mode": {
    "name": "ipython",
    "version": 3
   },
   "file_extension": ".py",
   "mimetype": "text/x-python",
   "name": "python",
   "nbconvert_exporter": "python",
   "pygments_lexer": "ipython3",
   "version": "3.10.4"
  }
 },
 "nbformat": 4,
 "nbformat_minor": 5
}
